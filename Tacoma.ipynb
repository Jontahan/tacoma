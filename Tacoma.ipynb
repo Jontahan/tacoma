{
 "cells": [
  {
   "cell_type": "code",
   "execution_count": 1,
   "metadata": {
    "collapsed": true
   },
   "outputs": [],
   "source": [
    "%load_ext autoreload\n",
    "%autoreload"
   ]
  },
  {
   "cell_type": "code",
   "execution_count": null,
   "metadata": {},
   "outputs": [],
   "source": [
    "import numpy as np\n",
    "from matplotlib import animation\n",
    "import matplotlib.pyplot as plt\n",
    "\n",
    "import problems\n",
    "import lib\n",
    "\n",
    "from timing import smooth_time\n",
    "\n",
    "# sp.init_printing()"
   ]
  },
  {
   "cell_type": "code",
   "execution_count": null,
   "metadata": {},
   "outputs": [],
   "source": [
    "l = 6\n",
    "\n",
    "iv = np.matrix([\n",
    "    [1],\n",
    "    [0],\n",
    "    [0.001],\n",
    "    [0]\n",
    "])\n",
    "\n",
    "results = lib.variable_euler(problems.tacoma(W=70, l=l), t=1000, iv=(0, iv), tolerance=1e-5)\n",
    "\n",
    "def cast():\n",
    "    for result in results:\n",
    "        yield [result['t'], result['w'][2, 0]]\n",
    "\n",
    "lib.plot_gen(cast(), x_keys=(0,), y_keys=(1,))\n",
    "plt.show()"
   ]
  }
 ],
 "metadata": {
  "kernelspec": {
   "display_name": "Python 3",
   "language": "python",
   "name": "python3"
  },
  "language_info": {
   "codemirror_mode": {
    "name": "ipython",
    "version": 3
   },
   "file_extension": ".py",
   "mimetype": "text/x-python",
   "name": "python",
   "nbconvert_exporter": "python",
   "pygments_lexer": "ipython3",
   "version": "3.6.2"
  }
 },
 "nbformat": 4,
 "nbformat_minor": 1
}
