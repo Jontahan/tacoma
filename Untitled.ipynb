{
 "cells": [
  {
   "cell_type": "code",
   "execution_count": 15,
   "metadata": {},
   "outputs": [
    {
     "data": {
      "text/latex": [
       "$$\\left[\\begin{matrix}\\frac{d}{d t} y{\\left (t \\right )}\\\\- \\frac{K}{a m} \\left(e^{a \\left(- l \\sin{\\left (\\theta{\\left (t \\right )} \\right )} + y{\\left (t \\right )}\\right)} + e^{a \\left(l \\sin{\\left (\\theta{\\left (t \\right )} \\right )} + y{\\left (t \\right )}\\right)} - 2\\right) + 0.2 W \\sin{\\left (\\omega t \\right )} - d \\frac{d}{d t} y{\\left (t \\right )}\\\\\\frac{d}{d t} \\theta{\\left (t \\right )}\\\\\\frac{3 K}{a l m} \\left(e^{a \\left(- l \\sin{\\left (\\theta{\\left (t \\right )} \\right )} + y{\\left (t \\right )}\\right)} - e^{a \\left(l \\sin{\\left (\\theta{\\left (t \\right )} \\right )} + y{\\left (t \\right )}\\right)}\\right) \\cos{\\left (\\theta{\\left (t \\right )} \\right )} - d \\frac{d}{d t} \\theta{\\left (t \\right )}\\end{matrix}\\right]$$"
      ],
      "text/plain": [
       "⎡                                         d                                   \n",
       "⎢                                         ──(y(t))                            \n",
       "⎢                                         dt                                  \n",
       "⎢                                                                             \n",
       "⎢    ⎛ a⋅(-l⋅sin(θ(t)) + y(t))    a⋅(l⋅sin(θ(t)) + y(t))    ⎞                 \n",
       "⎢  K⋅⎝ℯ                        + ℯ                       - 2⎠                 \n",
       "⎢- ────────────────────────────────────────────────────────── + 0.2⋅W⋅sin(ω⋅t)\n",
       "⎢                             a⋅m                                             \n",
       "⎢                                                                             \n",
       "⎢                                         d                                   \n",
       "⎢                                         ──(θ(t))                            \n",
       "⎢                                         dt                                  \n",
       "⎢                                                                             \n",
       "⎢         ⎛ a⋅(-l⋅sin(θ(t)) + y(t))    a⋅(l⋅sin(θ(t)) + y(t))⎞                \n",
       "⎢     3⋅K⋅⎝ℯ                        - ℯ                      ⎠⋅cos(θ(t))     d\n",
       "⎢     ────────────────────────────────────────────────────────────────── - d⋅─\n",
       "⎣                                   a⋅l⋅m                                    d\n",
       "\n",
       "             ⎤\n",
       "             ⎥\n",
       "             ⎥\n",
       "             ⎥\n",
       "             ⎥\n",
       "     d       ⎥\n",
       " - d⋅──(y(t))⎥\n",
       "     dt      ⎥\n",
       "             ⎥\n",
       "             ⎥\n",
       "             ⎥\n",
       "             ⎥\n",
       "             ⎥\n",
       "             ⎥\n",
       "             ⎥\n",
       "─(θ(t))      ⎥\n",
       "t            ⎦"
      ]
     },
     "metadata": {},
     "output_type": "display_data"
    }
   ],
   "source": [
    "from timing import steady_time\n",
    "import numpy as np\n",
    "import sympy as sp\n",
    "import lib\n",
    "\n",
    "sp.init_printing()\n",
    "\n",
    "d, K, m, a, W, l, omega = sp.symbols('d K m a W l omega')\n",
    "\n",
    "iv = np.matrix([\n",
    "    [0],\n",
    "    [0],\n",
    "    [0.001],\n",
    "    [0]\n",
    "])\n",
    "\n",
    "b = K / (m * a)\n",
    "\n",
    "def f(t, y):\n",
    "    s = sp.sin(y[2, 0])\n",
    "    a1 = sp.exp(a * (y[0, 0] - l * s))\n",
    "    a2 = sp.exp(a * (y[0, 0] + l * s))\n",
    "\n",
    "    return sp.Matrix([\n",
    "        [y[1, 0]],\n",
    "        [-d * y[1, 0] - b * (a1 + a2 - 2) + 0.2 * W * sp.sin(omega * t)],\n",
    "        [y[3, 0]],\n",
    "        [-d * y[3, 0] + b * (3 * sp.cos(y[2, 0]) / l) * (a1 - a2)]\n",
    "    ])\n",
    "\n",
    "theta = sp.Function('theta')\n",
    "y = sp.Function('y')\n",
    "t = sp.Symbol('t')\n",
    "\n",
    "\n",
    "e = sp.Matrix([[y(t)], [y(t).diff(t)], [theta(t)], [theta(t).diff(t)]])\n",
    "\n",
    "display(f(t, e))"
   ]
  }
 ],
 "metadata": {
  "kernelspec": {
   "display_name": "Python 3",
   "language": "python",
   "name": "python3"
  },
  "language_info": {
   "codemirror_mode": {
    "name": "ipython",
    "version": 3
   },
   "file_extension": ".py",
   "mimetype": "text/x-python",
   "name": "python",
   "nbconvert_exporter": "python",
   "pygments_lexer": "ipython3",
   "version": "3.6.2"
  }
 },
 "nbformat": 4,
 "nbformat_minor": 2
}
